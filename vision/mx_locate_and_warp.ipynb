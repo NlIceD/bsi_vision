{
 "cells": [
  {
   "cell_type": "code",
   "execution_count": 1,
   "metadata": {},
   "outputs": [
    {
     "name": "stdout",
     "output_type": "stream",
     "text": [
      "logfile data/logs/warper-07-11-18-37.log created and opened\n"
     ]
    }
   ],
   "source": [
    "import mxnet as mx\n",
    "import numpy as np\n",
    "import os\n",
    "import time\n",
    "import datetime\n",
    "\n",
    "# Setting logger\n",
    "import logging\n",
    "\n",
    "ts = time.time()\n",
    "timestamp = datetime.datetime.fromtimestamp(ts).strftime('%m-%d-%H-%M')\n",
    "\n",
    "logfile = 'data/logs/player_tracking-{}.log'.format(timestamp)\n",
    "\n",
    "logging.basicConfig(filename=logfile,level=logging.INFO)\n",
    "\n",
    "def log_print(*args):\n",
    "    print(\" \".join(map(str, args)))\n",
    "    logging.info(\" \".join(map(str, args)))\n",
    "    \n",
    "log_print(\"logfile {} created and opened\".format(logfile))\n"
   ]
  },
  {
   "cell_type": "markdown",
   "metadata": {},
   "source": [
    "### Configurable Params"
   ]
  },
  {
   "cell_type": "code",
   "execution_count": null,
   "metadata": {},
   "outputs": [],
   "source": [
    "#warper model params\n",
    "path_to_warper_weights = 'data/mx_ckpts/warper-07-11-18-37-epoch'\n",
    "weights_epoch = 800\n",
    "target_shape = (3, 300, 300)\n",
    "input_data_name = 'data'\n",
    "output_data_name = 'reg_out'\n",
    "\n",
    "mean_color = np.array([0.6274094, 0.61885411, 0.61518264], dtype=float)\n",
    "\n",
    "\n",
    "\n",
    "\n"
   ]
  },
  {
   "cell_type": "markdown",
   "metadata": {},
   "source": [
    "### Initializing the warper module"
   ]
  },
  {
   "cell_type": "code",
   "execution_count": 34,
   "metadata": {},
   "outputs": [
    {
     "name": "stdout",
     "output_type": "stream",
     "text": [
      "Module initialized\n"
     ]
    }
   ],
   "source": [
    "# Get the module\n",
    "from vistools.inceptionv3 import get_symbol\n",
    "\n",
    "warp_sym = get_symbol(num_outputs=9, output_name=output_data_name)\n",
    "\n",
    "warp_mod = mx.mod.Module(symbol=sym,\n",
    "                        context=context,\n",
    "                        data_names=[input_data_name],\n",
    "                        label_names=[output_data_name])\n",
    "log_print(\"Warper Module initialized\")"
   ]
  },
  {
   "cell_type": "code",
   "execution_count": 35,
   "metadata": {},
   "outputs": [
    {
     "name": "stdout",
     "output_type": "stream",
     "text": [
      "Using data/mx_ckpts/warper-07-11-18-37-epoch weights\n",
      "CONTINUED TRAINING from epoch 800\n",
      "Params loaded\n"
     ]
    }
   ],
   "source": [
    "# Load weights\n",
    "log_print('Using {} weights'.format(path_to_weights))\n",
    "log_print('CONTINUED TRAINING from epoch {}'.format(weights_epoch))\n",
    "_, arg_params, aux_params = mx.model.load_checkpoint(path_to_weights, weights_epoch)\n",
    "warp_mod.bind(for_training=False, data_shapes=img_iter.provide_data, \n",
    "         label_shapes=img_iter.provide_label)\n",
    "warp_mod.set_params(arg_params, aux_params, allow_missing=False, allow_extra=False, force_init=True)\n",
    "\n",
    "log_print(\"Params loaded\")"
   ]
  },
  {
   "cell_type": "code",
   "execution_count": 36,
   "metadata": {},
   "outputs": [
    {
     "name": "stdout",
     "output_type": "stream",
     "text": [
      "Defined callbacks\n"
     ]
    }
   ],
   "source": [
    "# Define callbacks\n",
    "epochs_per_ckpt = 100\n",
    "prefix = 'data/mx_ckpts/warper-{}-epoch'.format(timestamp)\n",
    "\n",
    "checkpointer = mx.callback.do_checkpoint(prefix, epochs_per_ckpt)\n",
    "batches_per_epoch = len(train_imglist) / batch_size\n",
    "progress_bar = mx.callback.ProgressBar(total=batches_per_epoch)\n",
    "log_print('Defined callbacks')"
   ]
  },
  {
   "cell_type": "markdown",
   "metadata": {},
   "source": [
    "### Initializing detection module"
   ]
  },
  {
   "cell_type": "code",
   "execution_count": null,
   "metadata": {},
   "outputs": [],
   "source": []
  },
  {
   "cell_type": "markdown",
   "metadata": {},
   "source": [
    "### Running predictions"
   ]
  },
  {
   "cell_type": "code",
   "execution_count": null,
   "metadata": {},
   "outputs": [],
   "source": [
    "# Predict using each module and combine results for player tracking\n",
    "from utils.warp_tools import src_xy_to_dst_xy\n",
    "\n",
    "img_iter.reset()\n",
    "for i, batch in enumerate(img_iter):\n",
    "    player_mod.forward(batch, is_train=False)    \n",
    "    warp_mod.forward(batch, is_train=False)       # compute predictions\n",
    "    warp_batch_pred = warp_mod.get_outputs()[0]\n",
    "    player_batch_pred = warp_mod.get_outputs()[0]\n",
    "\n",
    "    for j, warp_pred, player_pred in enumerate(zip(warp_batch_pred, player_batch_pred)):\n",
    "        H_unshaped = np.array(warp_pred.asnumpy(), dtype=np.float32)\n",
    "        H = H_unshaped.reshape((3,3))\n",
    "        \n",
    "        player_locs = player_pred\n",
    "        \n",
    "        dst_xy = src_xy_to_dst_xy()\n",
    "        "
   ]
  }
 ],
 "metadata": {
  "kernelspec": {
   "display_name": "Python 2",
   "language": "python",
   "name": "python2"
  },
  "language_info": {
   "codemirror_mode": {
    "name": "ipython",
    "version": 2
   },
   "file_extension": ".py",
   "mimetype": "text/x-python",
   "name": "python",
   "nbconvert_exporter": "python",
   "pygments_lexer": "ipython2",
   "version": "2.7.10"
  }
 },
 "nbformat": 4,
 "nbformat_minor": 2
}
